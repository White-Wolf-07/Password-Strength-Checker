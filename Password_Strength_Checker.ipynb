{
  "nbformat": 4,
  "nbformat_minor": 0,
  "metadata": {
    "colab": {
      "provenance": [],
      "gpuType": "T4",
      "mount_file_id": "1Gme8Wpxm4X-oF0eFPsvJPKVi4Z8n4qao",
      "authorship_tag": "ABX9TyN6MNTSohgY2SLld+DGl3Aa",
      "include_colab_link": true
    },
    "kernelspec": {
      "name": "python3",
      "display_name": "Python 3"
    },
    "language_info": {
      "name": "python"
    },
    "accelerator": "GPU"
  },
  "cells": [
    {
      "cell_type": "markdown",
      "metadata": {
        "id": "view-in-github",
        "colab_type": "text"
      },
      "source": [
        "<a href=\"https://colab.research.google.com/github/White-Wolf-07/Password-Strength-Checker/blob/main/Password_Strength_Checker.ipynb\" target=\"_parent\"><img src=\"https://colab.research.google.com/assets/colab-badge.svg\" alt=\"Open In Colab\"/></a>"
      ]
    },
    {
      "cell_type": "markdown",
      "source": [],
      "metadata": {
        "id": "S7g6HlubqZQM"
      }
    },
    {
      "cell_type": "code",
      "execution_count": null,
      "metadata": {
        "colab": {
          "base_uri": "https://localhost:8080/"
        },
        "id": "-vWLwlDIqSCM",
        "outputId": "4612c3bb-3871-46dc-fad8-a62019c10c25"
      },
      "outputs": [
        {
          "output_type": "stream",
          "name": "stdout",
          "text": [
            "      password  strength\n",
            "0     kzde5577         1\n",
            "1     kino3434         1\n",
            "2    visi7k1yr         1\n",
            "3     megzy123         1\n",
            "4  lamborghin1         1\n"
          ]
        }
      ],
      "source": [
        "import pandas as pd\n",
        "import numpy as np\n",
        "from sklearn.feature_extraction.text import CountVectorizer\n",
        "from sklearn.feature_extraction.text import TfidfVectorizer\n",
        "from sklearn.model_selection import train_test_split\n",
        "from sklearn.ensemble import RandomForestClassifier\n",
        "\n",
        "data = pd.read_csv(\"/content/drive/MyDrive/Password_dataset/data.csv\", on_bad_lines='skip')\n",
        "print(data.head())"
      ]
    },
    {
      "cell_type": "code",
      "source": [
        "data = data.dropna()\n",
        "data['strength'] = data['strength'].fillna(-1)\n",
        "strength_mapping = {0:\"Weak\",1:\"Medium\",2:\"Strong\"}\n",
        "data[\"strength\"] = data[\"strength\"].map(lambda x:strength_mapping.get(x,\"Unknown\"))\n",
        "print(data.sample(5))"
      ],
      "metadata": {
        "colab": {
          "base_uri": "https://localhost:8080/"
        },
        "id": "IrOEDLO9sZHl",
        "outputId": "ada63e7e-2bc6-445c-fed4-279973cc49d4"
      },
      "execution_count": null,
      "outputs": [
        {
          "output_type": "stream",
          "name": "stderr",
          "text": [
            "<ipython-input-2-641bfd41c1c8>:2: SettingWithCopyWarning: \n",
            "A value is trying to be set on a copy of a slice from a DataFrame.\n",
            "Try using .loc[row_indexer,col_indexer] = value instead\n",
            "\n",
            "See the caveats in the documentation: https://pandas.pydata.org/pandas-docs/stable/user_guide/indexing.html#returning-a-view-versus-a-copy\n",
            "  data['strength'] = data['strength'].fillna(-1)\n"
          ]
        },
        {
          "output_type": "stream",
          "name": "stdout",
          "text": [
            "          password strength\n",
            "184068  nldwtrok50   Medium\n",
            "94206   charito001   Medium\n",
            "581919   beergin07   Medium\n",
            "557442   pol123456   Medium\n",
            "248405   gurudeva.   Medium\n"
          ]
        }
      ]
    },
    {
      "cell_type": "markdown",
      "source": [
        "PREDICTION MODEL"
      ],
      "metadata": {
        "id": "ejFWwtt3tQ0r"
      }
    },
    {
      "cell_type": "code",
      "source": [
        "def word(password):\n",
        "    character=[]\n",
        "    for i in password:\n",
        "        character.append(i)\n",
        "    return character\n",
        "\n",
        "x = np.array(data[\"password\"])\n",
        "y = np.array(data[\"strength\"])\n",
        "\n",
        "tdif = TfidfVectorizer(tokenizer=word)\n",
        "x = tdif.fit_transform(x)\n",
        "xtrain, xtest, ytrain, ytest = train_test_split(x, y,\n",
        "                                                test_size=0.05,\n",
        "                                                random_state=42)"
      ],
      "metadata": {
        "colab": {
          "base_uri": "https://localhost:8080/"
        },
        "id": "9SaLeMtQs1sM",
        "outputId": "4bbf1531-2de9-49a4-df0e-9a18f3043bed"
      },
      "execution_count": null,
      "outputs": [
        {
          "output_type": "stream",
          "name": "stderr",
          "text": [
            "/usr/local/lib/python3.10/dist-packages/sklearn/feature_extraction/text.py:525: UserWarning: The parameter 'token_pattern' will not be used since 'tokenizer' is not None'\n",
            "  warnings.warn(\n"
          ]
        }
      ]
    },
    {
      "cell_type": "code",
      "source": [
        "model = RandomForestClassifier()\n",
        "model.fit(xtrain, ytrain)\n",
        "print(model.score(xtest, ytest))"
      ],
      "metadata": {
        "id": "-F45_SYNtalZ",
        "colab": {
          "base_uri": "https://localhost:8080/"
        },
        "outputId": "b84e6f9f-2976-4b4d-d663-36ece1464632"
      },
      "execution_count": null,
      "outputs": [
        {
          "output_type": "stream",
          "name": "stdout",
          "text": [
            "0.9565438145869423\n"
          ]
        }
      ]
    },
    {
      "cell_type": "code",
      "source": [
        "import getpass\n",
        "user = getpass.getpass(\"Enter Password: \")\n",
        "data = tdif.transform([user]).toarray()\n",
        "output = model.predict(data)\n",
        "print(output)"
      ],
      "metadata": {
        "colab": {
          "base_uri": "https://localhost:8080/"
        },
        "id": "_9LQyzM2WztL",
        "outputId": "40763fc0-2ee6-4e31-fe7a-1e5ad40befba"
      },
      "execution_count": null,
      "outputs": [
        {
          "output_type": "stream",
          "name": "stdout",
          "text": [
            "Enter Password: ··········\n",
            "['Strong']\n"
          ]
        }
      ]
    }
  ]
}